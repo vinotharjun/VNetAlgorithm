{
  "nbformat": 4,
  "nbformat_minor": 0,
  "metadata": {
    "colab": {
      "name": "vnet.ipynb",
      "provenance": [],
      "collapsed_sections": [
        "OxW_hURYSxnD",
        "U81P_VgkTvQ3",
        "hF3HMPOhTqnw",
        "M5zF9NFATlkK",
        "Z12H7aUfTf53"
      ]
    },
    "kernelspec": {
      "name": "python3",
      "display_name": "Python 3"
    },
    "accelerator": "GPU"
  },
  "cells": [
    {
      "cell_type": "code",
      "metadata": {
        "id": "5KFQll7BVg7z",
        "colab_type": "code",
        "colab": {}
      },
      "source": [
        "import torch\n",
        "import matplotlib.pyplot as plt\n",
        "import numpy as np\n",
        "import torch.nn.functional as F\n",
        "from torch import nn\n",
        "from torchvision import datasets, transforms                                                                                                                                                                                                                                                                                                                                                                                                                                                                                                                                                                               \n",
        "device = torch.device(\"cuda:0\" if torch.cuda.is_available() else \"cpu\")"
      ],
      "execution_count": 0,
      "outputs": []
    },
    {
      "cell_type": "markdown",
      "metadata": {
        "id": "-d22Fh-HFMFO",
        "colab_type": "text"
      },
      "source": [
        "# Vnet(propsesd architecture) for different datasets and comparision with existing models"
      ]
    },
    {
      "cell_type": "markdown",
      "metadata": {
        "id": "OxW_hURYSxnD",
        "colab_type": "text"
      },
      "source": [
        "# MNIST"
      ]
    },
    {
      "cell_type": "code",
      "metadata": {
        "id": "ZOfy_3oKWGmO",
        "colab_type": "code",
        "outputId": "05d8f351-32f4-4aab-afb7-070a32ace520",
        "colab": {
          "base_uri": "https://localhost:8080/",
          "height": 493
        }
      },
      "source": [
        "transform = transforms.Compose([transforms.Resize((28,28)),\n",
        "                               transforms.ToTensor(),\n",
        "                               transforms.Normalize((0.5,), (0.5,))\n",
        "                               ])\n",
        "training_dataset = datasets.MNIST(root='./data1', train=True, download=True, transform=transform)\n",
        "validation_dataset = datasets.MNIST(root='./data2', train=False, download=True, transform=transform)\n",
        "\n",
        "training_loader = torch.utils.data.DataLoader(training_dataset, batch_size=100, shuffle=True)\n",
        "validation_loader = torch.utils.data.DataLoader(validation_dataset, batch_size = 100, shuffle=False)"
      ],
      "execution_count": 0,
      "outputs": [
        {
          "output_type": "stream",
          "text": [
            "\r0it [00:00, ?it/s]"
          ],
          "name": "stderr"
        },
        {
          "output_type": "stream",
          "text": [
            "Downloading http://yann.lecun.com/exdb/mnist/train-images-idx3-ubyte.gz to ./data1/MNIST/raw/train-images-idx3-ubyte.gz\n"
          ],
          "name": "stdout"
        },
        {
          "output_type": "stream",
          "text": [
            "9920512it [00:03, 3298715.67it/s]                            \n"
          ],
          "name": "stderr"
        },
        {
          "output_type": "stream",
          "text": [
            "Extracting ./data1/MNIST/raw/train-images-idx3-ubyte.gz\n"
          ],
          "name": "stdout"
        },
        {
          "output_type": "stream",
          "text": [
            "\r0it [00:00, ?it/s]"
          ],
          "name": "stderr"
        },
        {
          "output_type": "stream",
          "text": [
            "Downloading http://yann.lecun.com/exdb/mnist/train-labels-idx1-ubyte.gz to ./data1/MNIST/raw/train-labels-idx1-ubyte.gz\n"
          ],
          "name": "stdout"
        },
        {
          "output_type": "stream",
          "text": [
            "32768it [00:00, 47679.79it/s]                           \n",
            "0it [00:00, ?it/s]"
          ],
          "name": "stderr"
        },
        {
          "output_type": "stream",
          "text": [
            "Extracting ./data1/MNIST/raw/train-labels-idx1-ubyte.gz\n",
            "Downloading http://yann.lecun.com/exdb/mnist/t10k-images-idx3-ubyte.gz to ./data1/MNIST/raw/t10k-images-idx3-ubyte.gz\n"
          ],
          "name": "stdout"
        },
        {
          "output_type": "stream",
          "text": [
            "1654784it [00:02, 798804.80it/s]                             \n",
            "0it [00:00, ?it/s]"
          ],
          "name": "stderr"
        },
        {
          "output_type": "stream",
          "text": [
            "Extracting ./data1/MNIST/raw/t10k-images-idx3-ubyte.gz\n",
            "Downloading http://yann.lecun.com/exdb/mnist/t10k-labels-idx1-ubyte.gz to ./data1/MNIST/raw/t10k-labels-idx1-ubyte.gz\n"
          ],
          "name": "stdout"
        },
        {
          "output_type": "stream",
          "text": [
            "8192it [00:00, 18030.55it/s]            \n",
            "0it [00:00, ?it/s]"
          ],
          "name": "stderr"
        },
        {
          "output_type": "stream",
          "text": [
            "Extracting ./data1/MNIST/raw/t10k-labels-idx1-ubyte.gz\n",
            "Processing...\n",
            "Done!\n",
            "Downloading http://yann.lecun.com/exdb/mnist/train-images-idx3-ubyte.gz to ./data2/MNIST/raw/train-images-idx3-ubyte.gz\n"
          ],
          "name": "stdout"
        },
        {
          "output_type": "stream",
          "text": [
            "9920512it [00:03, 3306507.02it/s]                             \n"
          ],
          "name": "stderr"
        },
        {
          "output_type": "stream",
          "text": [
            "Extracting ./data2/MNIST/raw/train-images-idx3-ubyte.gz\n"
          ],
          "name": "stdout"
        },
        {
          "output_type": "stream",
          "text": [
            "\r0it [00:00, ?it/s]"
          ],
          "name": "stderr"
        },
        {
          "output_type": "stream",
          "text": [
            "Downloading http://yann.lecun.com/exdb/mnist/train-labels-idx1-ubyte.gz to ./data2/MNIST/raw/train-labels-idx1-ubyte.gz\n"
          ],
          "name": "stdout"
        },
        {
          "output_type": "stream",
          "text": [
            "32768it [00:00, 47937.36it/s]                           \n",
            "0it [00:00, ?it/s]"
          ],
          "name": "stderr"
        },
        {
          "output_type": "stream",
          "text": [
            "Extracting ./data2/MNIST/raw/train-labels-idx1-ubyte.gz\n",
            "Downloading http://yann.lecun.com/exdb/mnist/t10k-images-idx3-ubyte.gz to ./data2/MNIST/raw/t10k-images-idx3-ubyte.gz\n"
          ],
          "name": "stdout"
        },
        {
          "output_type": "stream",
          "text": [
            "1654784it [00:02, 788925.37it/s]                             \n",
            "0it [00:00, ?it/s]"
          ],
          "name": "stderr"
        },
        {
          "output_type": "stream",
          "text": [
            "Extracting ./data2/MNIST/raw/t10k-images-idx3-ubyte.gz\n",
            "Downloading http://yann.lecun.com/exdb/mnist/t10k-labels-idx1-ubyte.gz to ./data2/MNIST/raw/t10k-labels-idx1-ubyte.gz\n"
          ],
          "name": "stdout"
        },
        {
          "output_type": "stream",
          "text": [
            "8192it [00:00, 17893.87it/s]            "
          ],
          "name": "stderr"
        },
        {
          "output_type": "stream",
          "text": [
            "Extracting ./data2/MNIST/raw/t10k-labels-idx1-ubyte.gz\n",
            "Processing...\n",
            "Done!\n"
          ],
          "name": "stdout"
        },
        {
          "output_type": "stream",
          "text": [
            "\n"
          ],
          "name": "stderr"
        }
      ]
    },
    {
      "cell_type": "code",
      "metadata": {
        "id": "Vpo3pt8AWI7y",
        "colab_type": "code",
        "colab": {}
      },
      "source": [
        "def im_convert(tensor):\n",
        "  image = tensor.cpu().clone().detach().numpy()\n",
        "  image = image.transpose(1, 2, 0)\n",
        "  image = image * np.array((0.5, 0.5, 0.5)) + np.array((0.5, 0.5, 0.5))\n",
        "  image = image.clip(0, 1)\n",
        "  return image"
      ],
      "execution_count": 0,
      "outputs": []
    },
    {
      "cell_type": "code",
      "metadata": {
        "id": "HOGr_Lt7WLij",
        "colab_type": "code",
        "outputId": "c24af5a8-fc25-4ecc-f61c-787e1337ba2a",
        "colab": {
          "base_uri": "https://localhost:8080/",
          "height": 288
        }
      },
      "source": [
        "dataiter = iter(training_loader)\n",
        "images, labels = dataiter.next()\n",
        "fig = plt.figure(figsize=(25, 4))\n",
        "\n",
        "for idx in np.arange(20):\n",
        "  ax = fig.add_subplot(2, 10, idx+1, xticks=[], yticks=[])\n",
        "  plt.imshow(im_convert(images[idx]))\n",
        "  ax.set_title([labels[idx].item()])"
      ],
      "execution_count": 0,
      "outputs": [
        {
          "output_type": "display_data",
          "data": {
            "image/png": "[encoded data removed]",
            "text/plain": [
              "<Figure size 1800x288 with 20 Axes>"
            ]
          },
          "metadata": {
            "tags": []
          }
        }
      ]
    },
    {
      "cell_type": "code",
      "metadata": {
        "id": "gU86DIYWr0Dq",
        "colab_type": "code",
        "colab": {}
      },
      "source": [
        ""
      ],
      "execution_count": 0,
      "outputs": []
    },
    {
      "cell_type": "markdown",
      "metadata": {
        "id": "6A047ySEEeNn",
        "colab_type": "text"
      },
      "source": [
        "## VNet For MNIST digit classfication"
      ]
    },
    {
      "cell_type": "code",
      "metadata": {
        "id": "L0WusxWCqGL2",
        "colab_type": "code",
        "outputId": "ff5d6db3-e426-4adb-b7b5-042e8971c0fc",
        "colab": {
          "base_uri": "https://localhost:8080/",
          "height": 34
        }
      },
      "source": [
        "# m= nn.Conv2d(20, 50, 5, 1)\n",
        "# input = torch.randn(1, 20, 24, 24)\n",
        "# output = m(input)\n",
        "# output.shape\n",
        "# # torch.Size([20, 20, 24, 24])"
      ],
      "execution_count": 0,
      "outputs": [
        {
          "output_type": "execute_result",
          "data": {
            "text/plain": [
              "torch.Size([1, 50, 20, 20])"
            ]
          },
          "metadata": {
            "tags": []
          },
          "execution_count": 100
        }
      ]
    },
    {
      "cell_type": "code",
      "metadata": {
        "id": "gUqLn0ZWXwUm",
        "colab_type": "code",
        "outputId": "ffb6d781-a9a7-4a77-dffa-f928a3fb3624",
        "colab": {
          "base_uri": "https://localhost:8080/",
          "height": 340
        }
      },
      "source": [
        "class VNet(nn.Module):\n",
        "  def __init__(self):\n",
        "    super().__init__()\n",
        "    self.conv_X1 = nn.Conv2d(1,20,5,1)\n",
        "    self.conv_X2 = nn.Conv2d(20,30,5,1)\n",
        "    self.conv_X3 = nn.Conv2d(30,40,4,1)\n",
        "    \n",
        "    self.conv_Y1 = nn.Conv2d(1,20,5,1)\n",
        "    self.conv_Y2 = nn.Conv2d(20,30,5,1)\n",
        "    self.conv_Y3 = nn.Conv2d(30,40,4,1)\n",
        "    \n",
        "    self.conv_Z1 = nn.Conv2d(1,20,5,1)\n",
        "    self.conv_Z2 = nn.Conv2d(20,30,5,1)\n",
        "    self.conv_Z3 = nn.Conv2d(30,40,4,1)\n",
        "    \n",
        "    self.conv_Xinter = nn.Conv2d(20,30,5,1)\n",
        "    self.conv_Yinter = nn.Conv2d(30,40,4,1)\n",
        "    self.conv_Zinter = nn.Conv2d(40,50,1,1)\n",
        "    \n",
        "    self.fc1=nn.Linear(480,500)\n",
        "    self.fc2=nn.Linear(40,100)\n",
        "    self.fc3=nn.Linear(50,100)\n",
        "    self.dropout1 = nn.Dropout(0.5)\n",
        "    self.fc = nn.Linear(700, 10)\n",
        "\n",
        "  def forward(self,x):\n",
        "    si=x.size(0)\n",
        "    x1 = F.relu(self.conv_X1(x))\n",
        "    x1 = F.max_pool2d(x1,2,2)\n",
        "    xinter =x1\n",
        "    \n",
        "    x1 = F.relu(self.conv_X2(x1))\n",
        "    x1 = F.max_pool2d(x1,2,2)\n",
        "    x1 = F.relu(self.conv_X3(x1))\n",
        "    x1 = F.max_pool2d(x1,2,2)\n",
        "    \n",
        "    x2 = F.relu(self.conv_Y1(x))\n",
        "    x2 = F.max_pool2d(x2,2,2)\n",
        "    x2 = F.relu(self.conv_Y2(x2))\n",
        "    x2 = F.max_pool2d(x2,2,2)\n",
        "    yinter = x2\n",
        "    x2 = F.relu(self.conv_Y3(x2))\n",
        "    x2= F.max_pool2d(x2,2,2)\n",
        "    \n",
        "    x3 = F.relu(self.conv_Z1(x))\n",
        "    x3 = F.max_pool2d(x3,2,2)\n",
        "    x3 = F.relu(self.conv_Z2(x3))\n",
        "    x3 = F.max_pool2d(x3,2,2)\n",
        "    x3 = F.relu(self.conv_Z3(x3))\n",
        "    x3 = F.max_pool2d(x3,2,2)\n",
        "    zinter=x3\n",
        "    \n",
        "    xinter = F.relu(self.conv_Xinter(xinter))\n",
        "    xinter = F.max_pool2d(xinter,2,2)\n",
        "    yinter = F.relu(self.conv_Yinter(yinter))\n",
        "    yinter = F.max_pool2d(yinter,2,2)\n",
        "    zinter = F.relu(self.conv_Zinter(zinter))\n",
        "    zinter = F.max_pool2d(zinter,2,2)\n",
        "    \n",
        "    xinter = xinter.view(si,-1)\n",
        "    xinter = F.relu(self.fc1(xinter))\n",
        "    xinter = self.dropout1(xinter)\n",
        "    \n",
        "    yinter = yinter.view(si,-1)\n",
        "    yinter = F.relu(self.fc2(yinter))\n",
        "    yinter = self.dropout1(yinter)\n",
        "    \n",
        "    zinter = zinter.view(si,-1)\n",
        "    zinter = F.relu(self.fc3(zinter))\n",
        "    zinter = self.dropout1(zinter)\n",
        "    \n",
        "    flatten=torch.cat((xinter,yinter,zinter),dim=1)\n",
        "#     flatten=torch.cat((flatten,zinter),dim=1)\n",
        "    \n",
        "    return self.fc(flatten)\n",
        "    \n",
        "    \n",
        "    \n",
        "model=VNet().to(device)\n",
        "model\n",
        "    \n",
        "    \n",
        "    "
      ],
      "execution_count": 0,
      "outputs": [
        {
          "output_type": "execute_result",
          "data": {
            "text/plain": [
              "VNet(\n",
              "  (conv_X1): Conv2d(1, 20, kernel_size=(5, 5), stride=(1, 1))\n",
              "  (conv_X2): Conv2d(20, 30, kernel_size=(5, 5), stride=(1, 1))\n",
              "  (conv_X3): Conv2d(30, 40, kernel_size=(4, 4), stride=(1, 1))\n",
              "  (conv_Y1): Conv2d(1, 20, kernel_size=(5, 5), stride=(1, 1))\n",
              "  (conv_Y2): Conv2d(20, 30, kernel_size=(5, 5), stride=(1, 1))\n",
              "  (conv_Y3): Conv2d(30, 40, kernel_size=(4, 4), stride=(1, 1))\n",
              "  (conv_Z1): Conv2d(1, 20, kernel_size=(5, 5), stride=(1, 1))\n",
              "  (conv_Z2): Conv2d(20, 30, kernel_size=(5, 5), stride=(1, 1))\n",
              "  (conv_Z3): Conv2d(30, 40, kernel_size=(4, 4), stride=(1, 1))\n",
              "  (conv_Xinter): Conv2d(20, 30, kernel_size=(5, 5), stride=(1, 1))\n",
              "  (conv_Yinter): Conv2d(30, 40, kernel_size=(4, 4), stride=(1, 1))\n",
              "  (conv_Zinter): Conv2d(40, 50, kernel_size=(1, 1), stride=(1, 1))\n",
              "  (fc1): Linear(in_features=480, out_features=500, bias=True)\n",
              "  (fc2): Linear(in_features=40, out_features=100, bias=True)\n",
              "  (fc3): Linear(in_features=50, out_features=100, bias=True)\n",
              "  (dropout1): Dropout(p=0.5)\n",
              "  (fc): Linear(in_features=700, out_features=10, bias=True)\n",
              ")"
            ]
          },
          "metadata": {
            "tags": []
          },
          "execution_count": 47
        }
      ]
    },
    {
      "cell_type": "markdown",
      "metadata": {
        "id": "R5_lponHEkEZ",
        "colab_type": "text"
      },
      "source": [
        "## VNet Version2"
      ]
    },
    {
      "cell_type": "code",
      "metadata": {
        "id": "qBFCviQSyd73",
        "colab_type": "code",
        "outputId": "7b0f1c98-7566-491e-ea0c-dd8381dd63ab",
        "colab": {
          "base_uri": "https://localhost:8080/",
          "height": 476
        }
      },
      "source": [
        "class VNetModified(nn.Module):\n",
        "  def __init__(self):\n",
        "    super().__init__()\n",
        "    self.conv_X1 = nn.Conv2d(1,20,5,1)\n",
        "    self.conv_X2 = nn.Conv2d(20,30,5,1)\n",
        "    self.conv_X3 = nn.Conv2d(30,40,4,1)\n",
        "    \n",
        "    self.conv_Y1 = nn.Conv2d(1,20,5,1)\n",
        "    self.conv_Y2 = nn.Conv2d(20,30,5,1)\n",
        "    self.conv_Y3 = nn.Conv2d(30,40,4,1)\n",
        "    \n",
        "    self.conv_Z1 = nn.Conv2d(1,20,5,1)\n",
        "    self.conv_Z2 = nn.Conv2d(20,30,5,1)\n",
        "    self.conv_Z3 = nn.Conv2d(30,40,4,1)\n",
        "    \n",
        "    self.conv_Xinter = nn.Conv2d(20,30,5,1)\n",
        "    self.conv_Yinter = nn.Conv2d(30,40,4,1)\n",
        "    self.conv_Zinter = nn.Conv2d(40,50,1,1)\n",
        "    \n",
        "    self.fc_Xinter=nn.Linear(480,500)\n",
        "    self.fc_Yinter=nn.Linear(40,100)\n",
        "    self.fc_Zinter=nn.Linear(50,100)\n",
        "    \n",
        "    self.fc_Xend=nn.Linear(40,100)\n",
        "    self.fc_Yend=nn.Linear(40,100)\n",
        "    self.fc_Zend =nn.Linear(40,100)\n",
        "    \n",
        "    self.dropout_Xinter = nn.Dropout(0.5)\n",
        "    self.dropout_Yinter = nn.Dropout(0.5)\n",
        "    self.dropout_Zinter = nn.Dropout(0.5)\n",
        "     \n",
        "    self.dropout_Xend = nn.Dropout(0.5)\n",
        "    self.dropout_Yend = nn.Dropout(0.5)\n",
        "    self.dropout_Zend = nn.Dropout(0.5)\n",
        "    \n",
        "#     self.dropout1 =nn.Dropout(0.5)\n",
        "#     self.dropout2 =nn.Dropout(0.5)\n",
        "    \n",
        "    self.fc1 = nn.Linear(1000, 10)\n",
        "#     self.fc2 = nn.Linear(784, 256)\n",
        "#     self.fc3 = nn.Linear(256,10)\n",
        "    \n",
        "#     self.finalfc=nn.Linear(784,256)\n",
        "   \n",
        "\n",
        "  def forward(self,x):\n",
        "    si=x.size(0)\n",
        "    x1 = F.relu(self.conv_X1(x))\n",
        "    x1 = F.max_pool2d(x1,2,2)\n",
        "    xinter =x1\n",
        "    \n",
        "    x1 = F.relu(self.conv_X2(x1))\n",
        "    x1 = F.max_pool2d(x1,2,2)\n",
        "    x1 = F.relu(self.conv_X3(x1))\n",
        "    x1 = F.max_pool2d(x1,2,2)\n",
        "    \n",
        "    x2 = F.relu(self.conv_Y1(x))\n",
        "    x2 = F.max_pool2d(x2,2,2)\n",
        "    x2 = F.relu(self.conv_Y2(x2))\n",
        "    x2 = F.max_pool2d(x2,2,2)\n",
        "    yinter = x2\n",
        "    x2 = F.relu(self.conv_Y3(x2))\n",
        "    x2= F.max_pool2d(x2,2,2)\n",
        "    \n",
        "    x3 = F.relu(self.conv_Z1(x))\n",
        "    x3 = F.max_pool2d(x3,2,2)\n",
        "    x3 = F.relu(self.conv_Z2(x3))\n",
        "    x3 = F.max_pool2d(x3,2,2)\n",
        "    x3 = F.relu(self.conv_Z3(x3))\n",
        "    x3 = F.max_pool2d(x3,2,2)\n",
        "    zinter=x3\n",
        "    \n",
        "    xinter = F.relu(self.conv_Xinter(xinter))\n",
        "    xinter = F.max_pool2d(xinter,2,2)\n",
        "    yinter = F.relu(self.conv_Yinter(yinter))\n",
        "    yinter = F.max_pool2d(yinter,2,2)\n",
        "    zinter = F.relu(self.conv_Zinter(zinter))\n",
        "    zinter = F.max_pool2d(zinter,2,2)\n",
        "    \n",
        "    xinter = xinter.view(si,-1)\n",
        "    xinter = F.relu(self.fc_Xinter(xinter))\n",
        "    xinter = self.dropout_Xinter(xinter)\n",
        "    \n",
        "    yinter = yinter.view(si,-1)\n",
        "    yinter = F.relu(self.fc_Yinter(yinter))\n",
        "    yinter = self.dropout_Yinter(yinter)\n",
        "    \n",
        "    zinter = zinter.view(si,-1)\n",
        "    zinter = F.relu(self.fc_Zinter(zinter))\n",
        "    zinter = self.dropout_Zinter(zinter)\n",
        "    \n",
        "    \n",
        "    X_end = x1.view(si,-1)\n",
        "    X_end = F.relu(self.fc_Xend(X_end))\n",
        "    X_end = self.dropout_Xend(X_end)\n",
        "    \n",
        "     \n",
        "    Y_end = x2.view(si,-1)\n",
        "    Y_end = F.relu(self.fc_Yend(Y_end))\n",
        "    Y_end = self.dropout_Yend(Y_end)\n",
        "     \n",
        "    Z_end = x3.view(si,-1)\n",
        "    Z_end = F.relu(self.fc_Zend(Z_end))\n",
        "    Z_end = self.dropout_Zend(Z_end)\n",
        "    \n",
        "    flatten=torch.cat((X_end,Y_end,Z_end,xinter,yinter,zinter),dim=1)\n",
        "#     flatten=torch.cat((flatten,zinter),dim=1)\n",
        "#     flatten = F.relu(self.fc1(flatten))\n",
        "#     flatten = self.dropout1(flatten)\n",
        "#     flatten  = F.relu(self.fc2(flatten))\n",
        "#     flatten = self.dropout2(flatten)\n",
        "    \n",
        "    return self.fc1(flatten)\n",
        "    \n",
        "    \n",
        "    \n",
        "\n",
        "model = VNetModified().to(device)\n",
        "model    "
      ],
      "execution_count": 0,
      "outputs": [
        {
          "output_type": "execute_result",
          "data": {
            "text/plain": [
              "VNetModified(\n",
              "  (conv_X1): Conv2d(1, 20, kernel_size=(5, 5), stride=(1, 1))\n",
              "  (conv_X2): Conv2d(20, 30, kernel_size=(5, 5), stride=(1, 1))\n",
              "  (conv_X3): Conv2d(30, 40, kernel_size=(4, 4), stride=(1, 1))\n",
              "  (conv_Y1): Conv2d(1, 20, kernel_size=(5, 5), stride=(1, 1))\n",
              "  (conv_Y2): Conv2d(20, 30, kernel_size=(5, 5), stride=(1, 1))\n",
              "  (conv_Y3): Conv2d(30, 40, kernel_size=(4, 4), stride=(1, 1))\n",
              "  (conv_Z1): Conv2d(1, 20, kernel_size=(5, 5), stride=(1, 1))\n",
              "  (conv_Z2): Conv2d(20, 30, kernel_size=(5, 5), stride=(1, 1))\n",
              "  (conv_Z3): Conv2d(30, 40, kernel_size=(4, 4), stride=(1, 1))\n",
              "  (conv_Xinter): Conv2d(20, 30, kernel_size=(5, 5), stride=(1, 1))\n",
              "  (conv_Yinter): Conv2d(30, 40, kernel_size=(4, 4), stride=(1, 1))\n",
              "  (conv_Zinter): Conv2d(40, 50, kernel_size=(1, 1), stride=(1, 1))\n",
              "  (fc_Xinter): Linear(in_features=480, out_features=500, bias=True)\n",
              "  (fc_Yinter): Linear(in_features=40, out_features=100, bias=True)\n",
              "  (fc_Zinter): Linear(in_features=50, out_features=100, bias=True)\n",
              "  (fc_Xend): Linear(in_features=40, out_features=100, bias=True)\n",
              "  (fc_Yend): Linear(in_features=40, out_features=100, bias=True)\n",
              "  (fc_Zend): Linear(in_features=40, out_features=100, bias=True)\n",
              "  (dropout_Xinter): Dropout(p=0.5)\n",
              "  (dropout_Yinter): Dropout(p=0.5)\n",
              "  (dropout_Zinter): Dropout(p=0.5)\n",
              "  (dropout_Xend): Dropout(p=0.5)\n",
              "  (dropout_Yend): Dropout(p=0.5)\n",
              "  (dropout_Zend): Dropout(p=0.5)\n",
              "  (fc1): Linear(in_features=1000, out_features=10, bias=True)\n",
              ")"
            ]
          },
          "metadata": {
            "tags": []
          },
          "execution_count": 45
        }
      ]
    },
    {
      "cell_type": "code",
      "metadata": {
        "id": "T-0QjKS2e1zP",
        "colab_type": "code",
        "colab": {}
      },
      "source": [
        ""
      ],
      "execution_count": 0,
      "outputs": []
    },
    {
      "cell_type": "code",
      "metadata": {
        "id": "w0p3eZU3h3nz",
        "colab_type": "code",
        "colab": {}
      },
      "source": [
        "# image = torch.randn(2, 1, 28, 28).to(device)\n",
        "# model(image)"
      ],
      "execution_count": 0,
      "outputs": []
    },
    {
      "cell_type": "code",
      "metadata": {
        "id": "TV1S8MRjWTmU",
        "colab_type": "code",
        "colab": {}
      },
      "source": [
        ""
      ],
      "execution_count": 0,
      "outputs": []
    },
    {
      "cell_type": "markdown",
      "metadata": {
        "id": "FVWhJy6GEqIh",
        "colab_type": "text"
      },
      "source": [
        "## RUN model"
      ]
    },
    {
      "cell_type": "code",
      "metadata": {
        "id": "0_9YThtmWWPj",
        "colab_type": "code",
        "outputId": "3ed55427-db70-4bad-e51a-0c9dacdbe6c0",
        "colab": {
          "base_uri": "https://localhost:8080/",
          "height": 1000
        }
      },
      "source": [
        "criterion = nn.CrossEntropyLoss()\n",
        "optimizer = torch.optim.Adam(model.parameters(), lr = 0.0001)\n",
        "epochs = 20\n",
        "running_loss_history = []\n",
        "running_corrects_history = []\n",
        "val_running_loss_history = []\n",
        "val_running_corrects_history = []\n",
        "\n",
        "\n",
        "\n",
        "for e in range(epochs):\n",
        "  \n",
        "  running_loss = 0.0\n",
        "  running_corrects = 0.0\n",
        "  val_running_loss = 0.0\n",
        "  val_running_corrects = 0.0\n",
        "  print(e)\n",
        "  for inputs, labels in training_loader:\n",
        "    inputs = inputs.to(device)\n",
        "    labels = labels.to(device)\n",
        "    outputs = model(inputs)\n",
        "    loss = criterion(outputs, labels)\n",
        "    \n",
        "    optimizer.zero_grad()\n",
        "    loss.backward()\n",
        "    optimizer.step()\n",
        "    \n",
        "    _, preds = torch.max(outputs, 1)\n",
        "    running_loss += loss.item()\n",
        "    running_corrects += torch.sum(preds == labels.data)\n",
        "\n",
        "  else:\n",
        "    with torch.no_grad():\n",
        "      for val_inputs, val_labels in validation_loader:\n",
        "        val_inputs = val_inputs.to(device)\n",
        "        val_labels = val_labels.to(device)\n",
        "        val_outputs = model(val_inputs)\n",
        "        val_loss = criterion(val_outputs, val_labels)\n",
        "        \n",
        "        _, val_preds = torch.max(val_outputs, 1)\n",
        "        val_running_loss += val_loss.item()\n",
        "        val_running_corrects += torch.sum(val_preds == val_labels.data)\n",
        "    epoch_loss = running_loss/len(training_loader)\n",
        "    epoch_acc = running_corrects.float()/ len(training_loader)\n",
        "    running_loss_history.append(epoch_loss)\n",
        "    running_corrects_history.append(epoch_acc)\n",
        "    \n",
        "    val_epoch_loss = val_running_loss/len(validation_loader)\n",
        "    val_epoch_acc = val_running_corrects.float()/ len(validation_loader)\n",
        "    val_running_loss_history.append(val_epoch_loss)\n",
        "    val_running_corrects_history.append(val_epoch_acc)\n",
        "    print('epoch :', (e+1))\n",
        "    print('training loss: {:.4f}, acc {:.4f} '.format(epoch_loss, epoch_acc.item()))\n",
        "    print('validation loss: {:.4f}, validation acc {:.4f} '.format(val_epoch_loss, val_epoch_acc.item()))"
      ],
      "execution_count": 0,
      "outputs": [
        {
          "output_type": "stream",
          "text": [
            "0\n",
            "epoch : 1\n",
            "training loss: 0.5942, acc 84.4967 \n",
            "validation loss: 0.1703, validation acc 95.1600 \n",
            "1\n",
            "epoch : 2\n",
            "training loss: 0.1385, acc 95.9367 \n",
            "validation loss: 0.0989, validation acc 96.9900 \n",
            "2\n",
            "epoch : 3\n",
            "training loss: 0.0923, acc 97.2050 \n",
            "validation loss: 0.0694, validation acc 97.8400 \n",
            "3\n",
            "epoch : 4\n",
            "training loss: 0.0719, acc 97.9167 \n",
            "validation loss: 0.0585, validation acc 98.2900 \n",
            "4\n",
            "epoch : 5\n",
            "training loss: 0.0591, acc 98.2283 \n",
            "validation loss: 0.0489, validation acc 98.4800 \n",
            "5\n",
            "epoch : 6\n",
            "training loss: 0.0513, acc 98.4700 \n",
            "validation loss: 0.0424, validation acc 98.7500 \n",
            "6\n",
            "epoch : 7\n",
            "training loss: 0.0438, acc 98.6867 \n",
            "validation loss: 0.0374, validation acc 98.7600 \n",
            "7\n",
            "epoch : 8\n",
            "training loss: 0.0390, acc 98.8317 \n",
            "validation loss: 0.0382, validation acc 98.7800 \n",
            "8\n",
            "epoch : 9\n",
            "training loss: 0.0356, acc 98.9167 \n",
            "validation loss: 0.0322, validation acc 98.9500 \n",
            "9\n",
            "epoch : 10\n",
            "training loss: 0.0312, acc 99.0200 \n",
            "validation loss: 0.0333, validation acc 98.9200 \n",
            "10\n",
            "epoch : 11\n",
            "training loss: 0.0290, acc 99.1167 \n",
            "validation loss: 0.0296, validation acc 99.0200 \n",
            "11\n",
            "epoch : 12\n",
            "training loss: 0.0269, acc 99.1900 \n",
            "validation loss: 0.0275, validation acc 99.0400 \n",
            "12\n",
            "epoch : 13\n",
            "training loss: 0.0238, acc 99.2850 \n",
            "validation loss: 0.0277, validation acc 99.0800 \n",
            "13\n",
            "epoch : 14\n",
            "training loss: 0.0228, acc 99.2850 \n",
            "validation loss: 0.0274, validation acc 99.1000 \n",
            "14\n",
            "epoch : 15\n",
            "training loss: 0.0202, acc 99.3650 \n",
            "validation loss: 0.0267, validation acc 99.1600 \n",
            "15\n",
            "epoch : 16\n",
            "training loss: 0.0177, acc 99.4400 \n",
            "validation loss: 0.0252, validation acc 99.1700 \n",
            "16\n",
            "epoch : 17\n",
            "training loss: 0.0169, acc 99.4767 \n",
            "validation loss: 0.0252, validation acc 99.1300 \n",
            "17\n",
            "epoch : 18\n",
            "training loss: 0.0153, acc 99.5167 \n",
            "validation loss: 0.0289, validation acc 99.0600 \n",
            "18\n",
            "epoch : 19\n",
            "training loss: 0.0143, acc 99.5517 \n",
            "validation loss: 0.0238, validation acc 99.2200 \n",
            "19\n",
            "epoch : 20\n",
            "training loss: 0.0135, acc 99.6150 \n",
            "validation loss: 0.0255, validation acc 99.1600 \n"
          ],
          "name": "stdout"
        }
      ]
    },
    {
      "cell_type": "code",
      "metadata": {
        "id": "WV2Ws8L0WvRH",
        "colab_type": "code",
        "outputId": "e0136fe6-7fce-4507-af58-334939a3aecd",
        "colab": {
          "base_uri": "https://localhost:8080/",
          "height": 286
        }
      },
      "source": [
        "plt.plot(running_loss_history, label='training loss')\n",
        "plt.plot(val_running_loss_history, label='validation loss')\n",
        "plt.legend()"
      ],
      "execution_count": 0,
      "outputs": [
        {
          "output_type": "execute_result",
          "data": {
            "text/plain": [
              "<matplotlib.legend.Legend at 0x7fd3c20a4630>"
            ]
          },
          "metadata": {
            "tags": []
          },
          "execution_count": 137
        },
        {
          "output_type": "display_data",
          "data": {
            "image/png": "[encoded data removed]",
            "text/plain": [
              "<Figure size 432x288 with 1 Axes>"
            ]
          },
          "metadata": {
            "tags": []
          }
        }
      ]
    },
    {
      "cell_type": "code",
      "metadata": {
        "id": "UyWyoh22Wydn",
        "colab_type": "code",
        "outputId": "8dec58f6-3016-45e2-c71b-6721aba08ba6",
        "colab": {
          "base_uri": "https://localhost:8080/",
          "height": 286
        }
      },
      "source": [
        "\n",
        "plt.plot(running_corrects_history, label='training accuracy')\n",
        "plt.plot(val_running_corrects_history, label='validation accuracy')\n",
        "plt.legend()"
      ],
      "execution_count": 0,
      "outputs": [
        {
          "output_type": "execute_result",
          "data": {
            "text/plain": [
              "<matplotlib.legend.Legend at 0x7fd3c656cfd0>"
            ]
          },
          "metadata": {
            "tags": []
          },
          "execution_count": 138
        },
        {
          "output_type": "display_data",
          "data": {
            "image/png": "[encoded data removed]",
            "text/plain": [
              "<Figure size 432x288 with 1 Axes>"
            ]
          },
          "metadata": {
            "tags": []
          }
        }
      ]
    },
    {
      "cell_type": "code",
      "metadata": {
        "id": "-KSTfQd7DpP6",
        "colab_type": "code",
        "colab": {}
      },
      "source": [
        ""
      ],
      "execution_count": 0,
      "outputs": []
    },
    {
      "cell_type": "markdown",
      "metadata": {
        "id": "-LZkY22SDpqd",
        "colab_type": "text"
      },
      "source": [
        "# CIFAR-10"
      ]
    },
    {
      "cell_type": "code",
      "metadata": {
        "id": "xGK1_peJDsmd",
        "colab_type": "code",
        "outputId": "c94632b1-3fd6-4673-88f9-72b3561d007f",
        "colab": {
          "base_uri": "https://localhost:8080/",
          "height": 1000
        }
      },
      "source": [
        "transform_train = transforms.Compose([transforms.Resize((32,32)),\n",
        "                                      transforms.RandomHorizontalFlip(),\n",
        "                                      transforms.RandomRotation(10),\n",
        "                                      transforms.RandomAffine(0, shear=10, scale=(0.8,1.2)),\n",
        "                                      transforms.ColorJitter(brightness=0.2, contrast=0.2, saturation=0.2),\n",
        "                                      transforms.ToTensor(),\n",
        "                                      transforms.Normalize((0.5, 0.5, 0.5), (0.5, 0.5, 0.5))\n",
        "                               ])\n",
        "\n",
        "\n",
        "transform = transforms.Compose([transforms.Resize((32,32)),\n",
        "                               transforms.ToTensor(),\n",
        "                               transforms.Normalize((0.5, 0.5, 0.5), (0.5, 0.5, 0.5))\n",
        "                               ])\n",
        "training_dataset = datasets.CIFAR10(root='./d', train=True, download=True, transform=transform_train)\n",
        "validation_dataset = datasets.CIFAR10(root='./dq', train=False, download=True, transform=transform)\n",
        "\n",
        "training_loader = torch.utils.data.DataLoader(training_dataset, batch_size=100, shuffle=True)\n",
        "validation_loader = torch.utils.data.DataLoader(validation_dataset, batch_size = 100, shuffle=False)"
      ],
      "execution_count": 0,
      "outputs": [
        {
          "output_type": "stream",
          "text": [
            "\r0it [00:00, ?it/s]"
          ],
          "name": "stderr"
        },
        {
          "output_type": "stream",
          "text": [
            "Downloading https://www.cs.toronto.edu/~kriz/cifar-10-python.tar.gz to ./d/cifar-10-python.tar.gz\n"
          ],
          "name": "stdout"
        },
        {
          "output_type": "stream",
          "text": [
            "100%|█████████▉| 169730048/170498071 [00:10<00:00, 20896489.02it/s]\n",
            "0it [00:00, ?it/s]\u001b[A"
          ],
          "name": "stderr"
        },
        {
          "output_type": "stream",
          "text": [
            "Downloading https://www.cs.toronto.edu/~kriz/cifar-10-python.tar.gz to ./dq/cifar-10-python.tar.gz\n"
          ],
          "name": "stdout"
        },
        {
          "output_type": "stream",
          "text": [
            "\n",
            "  0%|          | 0/170498071 [00:00<?, ?it/s]\u001b[A\n",
            "  0%|          | 8192/170498071 [00:00<50:32, 56219.70it/s]\u001b[A\n",
            "  0%|          | 40960/170498071 [00:00<39:10, 72517.69it/s]\u001b[A\n",
            "  0%|          | 106496/170498071 [00:01<29:18, 96883.81it/s]\u001b[A\n",
            "  0%|          | 221184/170498071 [00:01<21:35, 131462.21it/s]\u001b[A\n",
            "  0%|          | 450560/170498071 [00:01<15:37, 181307.14it/s]\u001b[A\n",
            "  0%|          | 729088/170498071 [00:01<11:22, 248878.05it/s]\u001b[A\n",
            "  1%|          | 1482752/170498071 [00:01<08:05, 348342.05it/s]\u001b[A\n",
            "  2%|▏         | 2793472/170498071 [00:01<05:42, 489288.52it/s]\u001b[A\n",
            "  3%|▎         | 5431296/170498071 [00:01<03:58, 690663.22it/s]\u001b[A\n",
            "  5%|▍         | 8298496/170498071 [00:02<02:46, 971280.36it/s]\u001b[A\n",
            "  6%|▋         | 11051008/170498071 [00:02<01:57, 1357547.39it/s]\u001b[A\n",
            "  8%|▊         | 14180352/170498071 [00:02<01:22, 1888187.81it/s]\u001b[A\n",
            " 10%|█         | 17309696/170498071 [00:02<00:58, 2599302.46it/s]\u001b[A\n",
            " 12%|█▏        | 20094976/170498071 [00:02<00:43, 3495832.01it/s]\u001b[A\n",
            " 14%|█▎        | 23142400/170498071 [00:02<00:31, 4653333.69it/s]\u001b[A\n",
            " 15%|█▌        | 26288128/170498071 [00:02<00:23, 6057551.49it/s]\u001b[A\n",
            " 17%|█▋        | 29417472/170498071 [00:03<00:18, 7719638.94it/s]\u001b[A\n",
            " 19%|█▉        | 32235520/170498071 [00:03<00:14, 9318454.80it/s]\u001b[A\n",
            " 21%|██        | 35364864/170498071 [00:03<00:12, 11220576.97it/s]\u001b[A\n",
            " 23%|██▎       | 38510592/170498071 [00:03<00:10, 13045666.06it/s]\u001b[A\n",
            " 24%|██▍       | 41295872/170498071 [00:03<00:08, 14357819.65it/s]\u001b[A\n",
            " 26%|██▌       | 44425216/170498071 [00:03<00:07, 15830532.06it/s]\u001b[A\n",
            " 28%|██▊       | 47505408/170498071 [00:04<00:07, 17116784.59it/s]\u001b[A\n",
            " 30%|██▉       | 50634752/170498071 [00:04<00:06, 18352846.01it/s]\u001b[A\n",
            " 31%|███▏      | 53469184/170498071 [00:04<00:06, 18369150.35it/s]\u001b[A\n",
            " 33%|███▎      | 56598528/170498071 [00:04<00:05, 19190609.73it/s]\u001b[A\n",
            " 35%|███▌      | 59727872/170498071 [00:04<00:05, 19812113.52it/s]\u001b[A\n",
            " 37%|███▋      | 62513152/170498071 [00:04<00:05, 19384880.10it/s]\u001b[A\n",
            " 39%|███▊      | 65642496/170498071 [00:04<00:05, 19253811.38it/s]\u001b[A\n",
            " 40%|████      | 68788224/170498071 [00:05<00:05, 19790881.28it/s]\u001b[A\n",
            " 42%|████▏     | 71917568/170498071 [00:05<00:04, 20359750.23it/s]\u001b[A\n",
            " 44%|████▍     | 75046912/170498071 [00:05<00:04, 21503174.31it/s]\u001b[A\n",
            " 46%|████▌     | 77864960/170498071 [00:05<00:04, 19659789.91it/s]\u001b[A\n",
            " 48%|████▊     | 80994304/170498071 [00:05<00:04, 20045065.13it/s]\u001b[A\n",
            " 49%|████▉     | 83927040/170498071 [00:05<00:04, 19892072.29it/s]\u001b[A\n",
            " 51%|█████     | 87056384/170498071 [00:05<00:04, 20204081.83it/s]\u001b[A\n",
            " 53%|█████▎    | 90202112/170498071 [00:06<00:03, 20375574.11it/s]\u001b[A\n",
            " 55%|█████▍    | 93331456/170498071 [00:06<00:03, 20681320.37it/s]\u001b[A\n",
            " 56%|█████▋    | 96149504/170498071 [00:06<00:03, 20056382.83it/s]\u001b[A\n",
            " 58%|█████▊    | 99278848/170498071 [00:06<00:03, 20267765.11it/s]\u001b[A\n",
            " 60%|██████    | 102408192/170498071 [00:06<00:03, 20609188.82it/s]\u001b[A\n",
            " 62%|██████▏   | 105553920/170498071 [00:06<00:03, 20735296.20it/s]\u001b[A\n",
            " 64%|██████▎   | 108355584/170498071 [00:06<00:03, 20086355.55it/s]\u001b[A\n",
            " 65%|██████▌   | 111484928/170498071 [00:07<00:02, 20325715.66it/s]\u001b[A\n",
            " 67%|██████▋   | 114614272/170498071 [00:07<00:02, 20799658.50it/s]\u001b[A\n",
            " 69%|██████▉   | 117366784/170498071 [00:07<00:02, 19990101.85it/s]\u001b[A\n",
            " 71%|███████   | 120479744/170498071 [00:07<00:02, 20378430.10it/s]\u001b[A\n",
            " 73%|███████▎  | 123625472/170498071 [00:07<00:02, 20585980.72it/s]\u001b[A\n",
            " 74%|███████▍  | 126754816/170498071 [00:07<00:02, 20702533.85it/s]\u001b[A\n",
            " 76%|███████▌  | 129523712/170498071 [00:08<00:02, 19949511.10it/s]\u001b[A\n",
            " 78%|███████▊  | 132653056/170498071 [00:08<00:01, 20193701.38it/s]\u001b[A\n",
            " 80%|███████▉  | 135782400/170498071 [00:08<00:01, 20733182.23it/s]\u001b[A\n",
            " 81%|████████▏ | 138911744/170498071 [00:08<00:01, 20941729.63it/s]\u001b[A\n",
            " 83%|████████▎ | 141713408/170498071 [00:08<00:01, 19957720.53it/s]\u001b[A\n",
            " 85%|████████▍ | 144842752/170498071 [00:08<00:01, 20382688.64it/s]\u001b[A\n",
            " 87%|████████▋ | 147988480/170498071 [00:08<00:01, 20464717.42it/s]\u001b[A\n",
            " 88%|████████▊ | 150757376/170498071 [00:09<00:00, 19790706.53it/s]\u001b[A\n",
            " 90%|█████████ | 153886720/170498071 [00:09<00:00, 20125190.72it/s]\u001b[A\n",
            " 92%|█████████▏| 156721152/170498071 [00:09<00:00, 19735173.03it/s]\u001b[A\n",
            " 94%|█████████▎| 159817728/170498071 [00:09<00:00, 20154901.87it/s]\u001b[A\n",
            " 96%|█████████▌| 162914304/170498071 [00:09<00:00, 20446142.05it/s]\u001b[A\n",
            " 97%|█████████▋| 165765120/170498071 [00:09<00:00, 19733045.75it/s]\u001b[A\n",
            " 99%|█████████▉| 168894464/170498071 [00:09<00:00, 20217801.41it/s]\u001b[A"
          ],
          "name": "stderr"
        }
      ]
    },
    {
      "cell_type": "code",
      "metadata": {
        "id": "l4kLdhmxEIcH",
        "colab_type": "code",
        "outputId": "8604f641-6a72-4843-b451-fa18017a32a3",
        "colab": {
          "base_uri": "https://localhost:8080/",
          "height": 51
        }
      },
      "source": [
        "def fit(model):\n",
        "  criterion = nn.CrossEntropyLoss()\n",
        "  optimizer = torch.optim.Adam(model.parameters(), lr = 0.0001)\n",
        "  epochs = 50\n",
        "  running_loss_history = []\n",
        "  running_corrects_history = []\n",
        "  val_running_loss_history = []\n",
        "  val_running_corrects_history = []\n",
        "\n",
        "\n",
        "\n",
        "  for e in range(epochs):\n",
        "  \n",
        "    running_loss = 0.0\n",
        "    running_corrects = 0.0\n",
        "    val_running_loss = 0.0\n",
        "    val_running_corrects = 0.0\n",
        "    print(e)\n",
        "    for inputs, labels in training_loader:\n",
        "      inputs = inputs.to(device)\n",
        "      labels = labels.to(device)\n",
        "      outputs = model(inputs)\n",
        "      loss = criterion(outputs, labels)\n",
        "    \n",
        "      optimizer.zero_grad()\n",
        "      loss.backward()\n",
        "      optimizer.step()\n",
        "    \n",
        "      _, preds = torch.max(outputs, 1)\n",
        "      running_loss += loss.item()\n",
        "      running_corrects += torch.sum(preds == labels.data)\n",
        "\n",
        "    else:\n",
        "      with torch.no_grad():\n",
        "        for val_inputs, val_labels in validation_loader:\n",
        "          val_inputs = val_inputs.to(device)\n",
        "          val_labels = val_labels.to(device)\n",
        "          val_outputs = model(val_inputs)\n",
        "          val_loss = criterion(val_outputs, val_labels)\n",
        "        \n",
        "          _, val_preds = torch.max(val_outputs, 1)\n",
        "          val_running_loss += val_loss.item()\n",
        "          val_running_corrects += torch.sum(val_preds == val_labels.data)\n",
        "      epoch_loss = running_loss/len(training_loader)\n",
        "      epoch_acc = running_corrects.float()/ len(training_loader)\n",
        "      running_loss_history.append(epoch_loss)\n",
        "      running_corrects_history.append(epoch_acc)\n",
        "    \n",
        "      val_epoch_loss = val_running_loss/len(validation_loader)\n",
        "      val_epoch_acc = val_running_corrects.float()/ len(validation_loader)\n",
        "      val_running_loss_history.append(val_epoch_loss)\n",
        "      val_running_corrects_history.append(val_epoch_acc)\n",
        "      print('epoch :', (e+1))\n",
        "      print('training loss: {:.4f}, acc {:.4f} '.format(epoch_loss, epoch_acc.item()))\n",
        "      print('validation loss: {:.4f}, validation acc {:.4f} '.format(val_epoch_loss, val_epoch_acc.item()))"
      ],
      "execution_count": 0,
      "outputs": [
        {
          "output_type": "stream",
          "text": [
            "\n",
            "170500096it [00:26, 20217801.41it/s]                               \u001b[A"
          ],
          "name": "stderr"
        }
      ]
    },
    {
      "cell_type": "markdown",
      "metadata": {
        "id": "U81P_VgkTvQ3",
        "colab_type": "text"
      },
      "source": [
        "## LNET "
      ]
    },
    {
      "cell_type": "code",
      "metadata": {
        "id": "-SCtcuEPUy34",
        "colab_type": "code",
        "colab": {}
      },
      "source": [
        "class LeNet(nn.Module):\n",
        "    def __init__(self):\n",
        "      super().__init__()\n",
        "      self.conv1 = nn.Conv2d(3, 16, 3, 1, padding=1)\n",
        "      self.conv2 = nn.Conv2d(16, 32, 3, 1, padding=1)\n",
        "      self.conv3 = nn.Conv2d(32, 64, 3, 1, padding=1)\n",
        "      self.fc1 = nn.Linear(4*4*64, 500)\n",
        "      self.dropout1 = nn.Dropout(0.5)\n",
        "      self.fc2 = nn.Linear(500, 10)\n",
        "    def forward(self, x):\n",
        "      x = F.relu(self.conv1(x))\n",
        "      x = F.max_pool2d(x, 2, 2)\n",
        "      x = F.relu(self.conv2(x))\n",
        "      x = F.max_pool2d(x, 2, 2)\n",
        "      x = F.relu(self.conv3(x))\n",
        "      x = F.max_pool2d(x, 2, 2)\n",
        "      x = x.view(-1, 4*4*64)\n",
        "      x = F.relu(self.fc1(x))\n",
        "      x = self.dropout1(x)\n",
        "      x = self.fc2(x)\n",
        "      return x\n",
        "model = LeNet().to(device)\n",
        "# model"
      ],
      "execution_count": 0,
      "outputs": []
    },
    {
      "cell_type": "code",
      "metadata": {
        "id": "kpZf3bUnUznx",
        "colab_type": "code",
        "outputId": "416d0551-3645-434f-f46a-9769a4a3f417",
        "colab": {
          "base_uri": "https://localhost:8080/",
          "height": 1000
        }
      },
      "source": [
        "fit(model)"
      ],
      "execution_count": 0,
      "outputs": [
        {
          "output_type": "stream",
          "text": [
            "0\n",
            "epoch : 1\n",
            "training loss: 1.9971, acc 27.1240 \n",
            "validation loss: 1.7834, validation acc 36.2200 \n",
            "1\n",
            "epoch : 2\n",
            "training loss: 1.7371, acc 37.1960 \n",
            "validation loss: 1.6167, validation acc 41.3800 \n",
            "2\n",
            "epoch : 3\n",
            "training loss: 1.6333, acc 40.9880 \n",
            "validation loss: 1.5332, validation acc 44.6200 \n",
            "3\n",
            "epoch : 4\n",
            "training loss: 1.5717, acc 43.2460 \n",
            "validation loss: 1.4807, validation acc 46.7500 \n",
            "4\n",
            "epoch : 5\n",
            "training loss: 1.5231, acc 45.0500 \n",
            "validation loss: 1.4374, validation acc 48.4000 \n",
            "5\n",
            "epoch : 6\n",
            "training loss: 1.4867, acc 46.4200 \n",
            "validation loss: 1.4171, validation acc 49.0900 \n",
            "6\n",
            "epoch : 7\n",
            "training loss: 1.4549, acc 47.8080 \n",
            "validation loss: 1.3813, validation acc 50.3400 \n",
            "7\n",
            "epoch : 8\n",
            "training loss: 1.4251, acc 48.9900 \n",
            "validation loss: 1.3402, validation acc 51.9300 \n",
            "8\n",
            "epoch : 9\n",
            "training loss: 1.4059, acc 49.6520 \n",
            "validation loss: 1.3245, validation acc 52.3600 \n",
            "9\n",
            "epoch : 10\n",
            "training loss: 1.3795, acc 50.7860 \n",
            "validation loss: 1.2968, validation acc 53.2500 \n",
            "10\n",
            "epoch : 11\n",
            "training loss: 1.3531, acc 51.5680 \n",
            "validation loss: 1.2731, validation acc 54.7100 \n",
            "11\n",
            "epoch : 12\n",
            "training loss: 1.3378, acc 52.4880 \n",
            "validation loss: 1.2630, validation acc 54.7600 \n",
            "12\n",
            "epoch : 13\n",
            "training loss: 1.3181, acc 53.2660 \n",
            "validation loss: 1.2587, validation acc 54.8300 \n",
            "13\n",
            "epoch : 14\n",
            "training loss: 1.2991, acc 53.9100 \n",
            "validation loss: 1.2284, validation acc 55.9800 \n",
            "14\n",
            "epoch : 15\n",
            "training loss: 1.2772, acc 54.4940 \n",
            "validation loss: 1.2029, validation acc 57.0100 \n"
          ],
          "name": "stdout"
        }
      ]
    },
    {
      "cell_type": "markdown",
      "metadata": {
        "id": "hF3HMPOhTqnw",
        "colab_type": "text"
      },
      "source": [
        "## ONET "
      ]
    },
    {
      "cell_type": "code",
      "metadata": {
        "id": "d34PI77HWfhf",
        "colab_type": "code",
        "colab": {}
      },
      "source": [
        "class ONet(nn.Module):\n",
        "  def __init__(self):\n",
        "    super().__init__()\n",
        "    self.conv_X1 = nn.Conv2d(3,16,3,1)\n",
        "    self.conv_X2 = nn.Conv2d(16,32,3,1)\n",
        "    self.conv_X3 = nn.Conv2d(32,64,3,1)\n",
        "    \n",
        "   \n",
        "    \n",
        "    self.conv_Xinter = nn.Conv2d(16,32,3,1)\n",
        "    self.conv_Yinter = nn.Conv2d(32,64,3,1)\n",
        "    self.conv_Zinter = nn.Conv2d(64,128,2,1)\n",
        "    \n",
        "    self.fc_Xinter=nn.Linear(1152,1500)\n",
        "    self.fc_Yinter=nn.Linear(256,500)\n",
        "    self.fc_Zinter=nn.Linear(128,500)\n",
        "    \n",
        "    self.fc_Xend=nn.Linear(256,500)\n",
        "    self.fc_Yend=nn.Linear(256,500)\n",
        "    self.fc_Zend =nn.Linear(256,500)\n",
        "    \n",
        "    self.dropout_Xinter = nn.Dropout(0.5)\n",
        "    self.dropout_Yinter = nn.Dropout(0.5)\n",
        "    self.dropout_Zinter = nn.Dropout(0.5)\n",
        "     \n",
        "    self.dropout_Xend = nn.Dropout(0.5)\n",
        "    self.dropout_Yend = nn.Dropout(0.5)\n",
        "    self.dropout_Zend = nn.Dropout(0.5)\n",
        "    \n",
        "#     self.dropout1 =nn.Dropout(0.5)\n",
        "#     self.dropout2 =nn.Dropout(0.5)\n",
        "    \n",
        "    self.fc1 = nn.Linear(3000, 10)\n",
        "#     self.fc2 = nn.Linear(1, 256)\n",
        "#     self.fc3 = nn.Linear(256,10)\n",
        "    \n",
        "#     self.finalfc=nn.Linear(784,256)\n",
        "   \n",
        "\n",
        "  def forward(self,x):\n",
        "    si=x.size(0)\n",
        "    x1 = F.relu(self.conv_X1(x))\n",
        "    x1 = F.max_pool2d(x1,2,2)\n",
        "    xinter =x1\n",
        "    \n",
        "    x1 = F.relu(self.conv_X2(x1))\n",
        "    x1 = F.max_pool2d(x1,2,2)\n",
        "    yinter = x1\n",
        "    x1 = F.relu(self.conv_X3(x1))\n",
        "    x1 = F.max_pool2d(x1,2,2)\n",
        "    zinter = x1\n",
        "    \n",
        "    \n",
        "    \n",
        "    xinter = F.relu(self.conv_Xinter(xinter))\n",
        "    xinter = F.max_pool2d(xinter,2,2)\n",
        "    yinter = F.relu(self.conv_Yinter(yinter))\n",
        "    yinter = F.max_pool2d(yinter,2,2)\n",
        "    zinter = F.relu(self.conv_Zinter(zinter))\n",
        "    zinter = F.max_pool2d(zinter,2,2)\n",
        "    \n",
        "    xinter = xinter.view(si,-1)\n",
        "    xinter = F.relu(self.fc_Xinter(xinter))\n",
        "    xinter = self.dropout_Xinter(xinter)\n",
        "    \n",
        "    yinter = yinter.view(si,-1)\n",
        "    yinter = F.relu(self.fc_Yinter(yinter))\n",
        "    yinter = self.dropout_Yinter(yinter)\n",
        "    \n",
        "    zinter = zinter.view(si,-1)\n",
        "    zinter = F.relu(self.fc_Zinter(zinter))\n",
        "    zinter = self.dropout_Zinter(zinter)\n",
        "    \n",
        "    \n",
        "    X_end = x1.view(si,-1)\n",
        "    X_end = F.relu(self.fc_Xend(X_end))\n",
        "    X_end = self.dropout_Xend(X_end)\n",
        "    \n",
        "     \n",
        "    \n",
        "    flatten=torch.cat((X_end,xinter,yinter,zinter),dim=1)\n",
        "#     flatten=torch.cat((flatten,zinter),dim=1)\n",
        "#     flatten = F.relu(self.fc1(flatten))\n",
        "#     flatten = self.dropout1(flatten)\n",
        "#     flatten  = F.relu(self.fc2(flatten))\n",
        "#     flatten = self.dropout2(flatten)\n",
        "    \n",
        "    return self.fc1(flatten)\n",
        "    \n",
        "    \n",
        "    \n",
        "\n",
        "model = ONet().to(device)\n",
        "# model    "
      ],
      "execution_count": 0,
      "outputs": []
    },
    {
      "cell_type": "code",
      "metadata": {
        "id": "Qb9GutV2ZQ6v",
        "colab_type": "code",
        "outputId": "0299ffe8-2323-4c2a-880c-9a0a6bf926ca",
        "colab": {
          "base_uri": "https://localhost:8080/",
          "height": 1000
        }
      },
      "source": [
        "fit(model)"
      ],
      "execution_count": 0,
      "outputs": [
        {
          "output_type": "stream",
          "text": [
            "0\n",
            "epoch : 1\n",
            "training loss: 1.8597, acc 32.8320 \n",
            "validation loss: 1.5935, validation acc 42.6900 \n",
            "1\n",
            "epoch : 2\n",
            "training loss: 1.5839, acc 42.8220 \n",
            "validation loss: 1.4728, validation acc 46.5700 \n",
            "2\n",
            "epoch : 3\n",
            "training loss: 1.4994, acc 45.9320 \n",
            "validation loss: 1.3975, validation acc 49.5600 \n",
            "3\n",
            "epoch : 4\n",
            "training loss: 1.4395, acc 48.3500 \n",
            "validation loss: 1.3468, validation acc 51.4900 \n",
            "4\n",
            "epoch : 5\n",
            "training loss: 1.3941, acc 50.3560 \n",
            "validation loss: 1.3039, validation acc 53.6600 \n",
            "5\n",
            "epoch : 6\n",
            "training loss: 1.3552, acc 51.6240 \n",
            "validation loss: 1.2601, validation acc 54.6500 \n",
            "6\n",
            "epoch : 7\n",
            "training loss: 1.3174, acc 52.9760 \n",
            "validation loss: 1.2454, validation acc 55.4500 \n",
            "7\n",
            "epoch : 8\n",
            "training loss: 1.2841, acc 54.4480 \n",
            "validation loss: 1.1950, validation acc 57.2500 \n",
            "8\n",
            "epoch : 9\n",
            "training loss: 1.2547, acc 55.6820 \n",
            "validation loss: 1.1650, validation acc 58.7200 \n",
            "9\n",
            "epoch : 10\n",
            "training loss: 1.2269, acc 56.3100 \n",
            "validation loss: 1.1403, validation acc 59.7600 \n",
            "10\n",
            "epoch : 11\n",
            "training loss: 1.2036, acc 57.5000 \n",
            "validation loss: 1.1171, validation acc 60.0500 \n",
            "11\n",
            "epoch : 12\n",
            "training loss: 1.1854, acc 58.3300 \n",
            "validation loss: 1.1144, validation acc 60.1800 \n",
            "12\n",
            "epoch : 13\n",
            "training loss: 1.1642, acc 59.1760 \n",
            "validation loss: 1.0831, validation acc 61.7100 \n",
            "13\n",
            "epoch : 14\n",
            "training loss: 1.1411, acc 59.8680 \n",
            "validation loss: 1.0768, validation acc 62.0200 \n",
            "14\n",
            "epoch : 15\n",
            "training loss: 1.1262, acc 60.4640 \n",
            "validation loss: 1.0578, validation acc 63.0500 \n"
          ],
          "name": "stdout"
        }
      ]
    },
    {
      "cell_type": "markdown",
      "metadata": {
        "id": "M5zF9NFATlkK",
        "colab_type": "text"
      },
      "source": [
        "## VNet "
      ]
    },
    {
      "cell_type": "code",
      "metadata": {
        "id": "CTVgzSzpXxMA",
        "colab_type": "code",
        "colab": {}
      },
      "source": [
        "class VNet(nn.Module):\n",
        "  def __init__(self):\n",
        "    super().__init__()\n",
        "    self.conv_X1 = nn.Conv2d(3,16,3,1)\n",
        "    self.conv_X2 = nn.Conv2d(16,32,3,1)\n",
        "    self.conv_X3 = nn.Conv2d(32,64,3,1)\n",
        "    \n",
        "    self.conv_Y1 = nn.Conv2d(3,16,3,1)\n",
        "    self.conv_Y2 = nn.Conv2d(16,32,3,1)\n",
        "    self.conv_Y3 = nn.Conv2d(32,64,3,1)\n",
        "    \n",
        "    self.conv_Z1 = nn.Conv2d(3,16,3,1)\n",
        "    self.conv_Z2 = nn.Conv2d(16,32,3,1)\n",
        "    self.conv_Z3 = nn.Conv2d(32,64,3,1)\n",
        "    \n",
        "    self.conv_Xinter = nn.Conv2d(16,32,3,1)\n",
        "    self.conv_Yinter = nn.Conv2d(32,64,3,1)\n",
        "    self.conv_Zinter = nn.Conv2d(64,128,2,1)\n",
        "    \n",
        "    self.fc1=nn.Linear(1152,1500)\n",
        "    self.fc2=nn.Linear(256,500)\n",
        "    self.fc3=nn.Linear(128,500)\n",
        "    self.dropout1 = nn.Dropout(0.5)\n",
        "    self.fc = nn.Linear(2500, 10)\n",
        "#     self.fclast=nn.Linear(784,10)\n",
        "\n",
        "  def forward(self,x):\n",
        "    si=x.size(0)\n",
        "#     print(si)\n",
        "    x1 = F.relu(self.conv_X1(x))\n",
        "    x1 = F.max_pool2d(x1,2,2)\n",
        "    xinter =x1\n",
        "    \n",
        "#     x1 = F.relu(self.conv_X2(x1))\n",
        "#     x1 = F.max_pool2d(x1,2,2)\n",
        "#     x1 = F.relu(self.conv_X3(x1))\n",
        "#     x1 = F.max_pool2d(x1,2,2)\n",
        "    \n",
        "    x2 = F.relu(self.conv_Y1(x))\n",
        "    x2 = F.max_pool2d(x2,2,2)\n",
        "    x2 = F.relu(self.conv_Y2(x2))\n",
        "    x2 = F.max_pool2d(x2,2,2)\n",
        "    yinter = x2\n",
        "#     x2 = F.relu(self.conv_Y3(x2))\n",
        "#     x2= F.max_pool2d(x2,2,2)\n",
        "    \n",
        "    x3 = F.relu(self.conv_Z1(x))\n",
        "    x3 = F.max_pool2d(x3,2,2)\n",
        "    x3 = F.relu(self.conv_Z2(x3))\n",
        "    x3 = F.max_pool2d(x3,2,2)\n",
        "    x3 = F.relu(self.conv_Z3(x3))\n",
        "    x3 = F.max_pool2d(x3,2,2)\n",
        "    zinter=x3\n",
        "    \n",
        "    xinter = F.relu(self.conv_Xinter(xinter))\n",
        "    xinter = F.max_pool2d(xinter,2,2)\n",
        "    yinter = F.relu(self.conv_Yinter(yinter))\n",
        "    yinter = F.max_pool2d(yinter,2,2)\n",
        "    zinter = F.relu(self.conv_Zinter(zinter))\n",
        "    zinter = F.max_pool2d(zinter,2,2)\n",
        "    \n",
        "    xinter = xinter.view(si,-1)\n",
        "#     print(xinter.shape)\n",
        "    xinter = F.relu(self.fc1(xinter))\n",
        "    xinter = self.dropout1(xinter)\n",
        "    \n",
        "    yinter = yinter.view(si,-1)\n",
        "    yinter = F.relu(self.fc2(yinter))\n",
        "    yinter = self.dropout1(yinter)\n",
        "    \n",
        "    zinter = zinter.view(si,-1)\n",
        "    zinter = F.relu(self.fc3(zinter))\n",
        "    zinter = self.dropout1(zinter)\n",
        "    \n",
        "    flatten=torch.cat((xinter,yinter,zinter),dim=1)\n",
        "#     flatten=F.relu(self.fc(flatten))\n",
        "#     flatten=self.dropout1(flatten)\n",
        "#     flatten=torch.cat((flatten,zinter),dim=1)\n",
        "    \n",
        "    return self.fc(flatten)\n",
        "    \n",
        "    \n",
        "    \n",
        "model=VNet().to(device)\n",
        "# model\n",
        "    \n",
        "    \n",
        "    "
      ],
      "execution_count": 0,
      "outputs": []
    },
    {
      "cell_type": "code",
      "metadata": {
        "id": "8AmKzuvkZOcZ",
        "colab_type": "code",
        "outputId": "ba9a14f7-6369-46f5-9e13-31876184f620",
        "colab": {
          "base_uri": "https://localhost:8080/",
          "height": 1000
        }
      },
      "source": [
        "fit(model)"
      ],
      "execution_count": 0,
      "outputs": [
        {
          "output_type": "stream",
          "text": [
            "0\n",
            "epoch : 1\n",
            "training loss: 1.8638, acc 32.6840 \n",
            "validation loss: 1.5922, validation acc 43.3900 \n",
            "1\n",
            "epoch : 2\n",
            "training loss: 1.5863, acc 42.8520 \n",
            "validation loss: 1.4511, validation acc 47.9600 \n",
            "2\n",
            "epoch : 3\n",
            "training loss: 1.4871, acc 46.5120 \n",
            "validation loss: 1.3900, validation acc 50.4400 \n",
            "3\n",
            "epoch : 4\n",
            "training loss: 1.4255, acc 48.5760 \n",
            "validation loss: 1.3312, validation acc 52.0600 \n",
            "4\n",
            "epoch : 5\n",
            "training loss: 1.3810, acc 50.7720 \n",
            "validation loss: 1.2885, validation acc 54.2300 \n",
            "5\n",
            "epoch : 6\n",
            "training loss: 1.3371, acc 52.4340 \n",
            "validation loss: 1.2589, validation acc 55.4400 \n",
            "6\n",
            "epoch : 7\n",
            "training loss: 1.3082, acc 53.6480 \n",
            "validation loss: 1.2280, validation acc 56.4100 \n",
            "7\n",
            "epoch : 8\n",
            "training loss: 1.2772, acc 54.8120 \n",
            "validation loss: 1.2070, validation acc 56.5600 \n",
            "8\n",
            "epoch : 9\n",
            "training loss: 1.2507, acc 55.6380 \n",
            "validation loss: 1.1677, validation acc 58.4000 \n",
            "9\n",
            "epoch : 10\n",
            "training loss: 1.2240, acc 56.8820 \n",
            "validation loss: 1.1348, validation acc 59.6500 \n",
            "10\n",
            "epoch : 11\n",
            "training loss: 1.1983, acc 57.6060 \n",
            "validation loss: 1.1215, validation acc 60.2000 \n",
            "11\n",
            "epoch : 12\n",
            "training loss: 1.1758, acc 58.5040 \n",
            "validation loss: 1.0968, validation acc 61.1700 \n",
            "12\n",
            "epoch : 13\n",
            "training loss: 1.1574, acc 59.2700 \n",
            "validation loss: 1.0855, validation acc 61.9800 \n",
            "13\n",
            "epoch : 14\n",
            "training loss: 1.1370, acc 59.7920 \n",
            "validation loss: 1.0619, validation acc 62.1700 \n",
            "14\n",
            "epoch : 15\n",
            "training loss: 1.1226, acc 60.3980 \n",
            "validation loss: 1.0580, validation acc 62.4300 \n"
          ],
          "name": "stdout"
        }
      ]
    },
    {
      "cell_type": "markdown",
      "metadata": {
        "id": "Z12H7aUfTf53",
        "colab_type": "text"
      },
      "source": [
        "## VNET MODIFIED"
      ]
    },
    {
      "cell_type": "code",
      "metadata": {
        "id": "35-M2J5mX3Ke",
        "colab_type": "code",
        "colab": {}
      },
      "source": [
        "class VNetModified(nn.Module):\n",
        "  def __init__(self):\n",
        "    super().__init__()\n",
        "    self.conv_X1 = nn.Conv2d(3,16,3,1)\n",
        "    self.conv_X2 = nn.Conv2d(16,32,3,1)\n",
        "    self.conv_X3 = nn.Conv2d(32,64,3,1)\n",
        "    \n",
        "    self.conv_Y1 = nn.Conv2d(3,16,3,1)\n",
        "    self.conv_Y2 = nn.Conv2d(16,32,3,1)\n",
        "    self.conv_Y3 = nn.Conv2d(32,64,3,1)\n",
        "    \n",
        "    \n",
        "    self.conv_Z1 = nn.Conv2d(3,16,3,1)\n",
        "    self.conv_Z2 = nn.Conv2d(16,32,3,1)\n",
        "    self.conv_Z3 = nn.Conv2d(32,64,3,1)\n",
        "    \n",
        "    self.conv_Xinter = nn.Conv2d(16,32,3,1)\n",
        "    self.conv_Yinter = nn.Conv2d(32,64,3,1)\n",
        "    self.conv_Zinter = nn.Conv2d(64,128,2,1)\n",
        "    \n",
        "    self.fc_Xinter=nn.Linear(1152,1500)\n",
        "    self.fc_Yinter=nn.Linear(256,500)\n",
        "    self.fc_Zinter=nn.Linear(128,500)\n",
        "    \n",
        "    self.fc_Xend=nn.Linear(256,500)\n",
        "    self.fc_Yend=nn.Linear(256,500)\n",
        "    self.fc_Zend =nn.Linear(256,500)\n",
        "    \n",
        "    self.dropout_Xinter = nn.Dropout(0.5)\n",
        "    self.dropout_Yinter = nn.Dropout(0.5)\n",
        "    self.dropout_Zinter = nn.Dropout(0.5)\n",
        "     \n",
        "    self.dropout_Xend = nn.Dropout(0.5)\n",
        "    self.dropout_Yend = nn.Dropout(0.5)\n",
        "    self.dropout_Zend = nn.Dropout(0.5)\n",
        "    \n",
        "    self.dropout1 =nn.Dropout(0.5)\n",
        "    self.dropout2 =nn.Dropout(0.5)\n",
        "    \n",
        "    self.fc1 = nn.Linear(4000, 10)\n",
        "#     self.fc2 = nn.Linear(1, 256)\n",
        "#     self.fc3 = nn.Linear(256,10)\n",
        "    \n",
        "#     self.finalfc=nn.Linear(784,256)\n",
        "   \n",
        "\n",
        "  def forward(self,x):\n",
        "    si=x.size(0)\n",
        "    x1 = F.relu(self.conv_X1(x))\n",
        "    x1 = F.max_pool2d(x1,2,2)\n",
        "    xinter =x1\n",
        "    \n",
        "    x1 = F.relu(self.conv_X2(x1))\n",
        "    x1 = F.max_pool2d(x1,2,2)\n",
        "    x1 = F.relu(self.conv_X3(x1))\n",
        "    x1 = F.max_pool2d(x1,2,2)\n",
        "    \n",
        "    x2 = F.relu(self.conv_Y1(x))\n",
        "    x2 = F.max_pool2d(x2,2,2)\n",
        "    x2 = F.relu(self.conv_Y2(x2))\n",
        "    x2 = F.max_pool2d(x2,2,2)\n",
        "    yinter = x2\n",
        "    x2 = F.relu(self.conv_Y3(x2))\n",
        "    x2= F.max_pool2d(x2,2,2)\n",
        "    \n",
        "    x3 = F.relu(self.conv_Z1(x))\n",
        "    x3 = F.max_pool2d(x3,2,2)\n",
        "    x3 = F.relu(self.conv_Z2(x3))\n",
        "    x3 = F.max_pool2d(x3,2,2)\n",
        "    x3 = F.relu(self.conv_Z3(x3))\n",
        "    x3 = F.max_pool2d(x3,2,2)\n",
        "    zinter=x3\n",
        "    \n",
        "    xinter = F.relu(self.conv_Xinter(xinter))\n",
        "    xinter = F.max_pool2d(xinter,2,2)\n",
        "    yinter = F.relu(self.conv_Yinter(yinter))\n",
        "    yinter = F.max_pool2d(yinter,2,2)\n",
        "    zinter = F.relu(self.conv_Zinter(zinter))\n",
        "    zinter = F.max_pool2d(zinter,2,2)\n",
        "    \n",
        "    xinter = xinter.view(si,-1)\n",
        "    xinter = F.relu(self.fc_Xinter(xinter))\n",
        "    xinter = self.dropout_Xinter(xinter)\n",
        "    \n",
        "    yinter = yinter.view(si,-1)\n",
        "    yinter = F.relu(self.fc_Yinter(yinter))\n",
        "    yinter = self.dropout_Yinter(yinter)\n",
        "    \n",
        "    zinter = zinter.view(si,-1)\n",
        "    zinter = F.relu(self.fc_Zinter(zinter))\n",
        "    zinter = self.dropout_Zinter(zinter)\n",
        "    \n",
        "    \n",
        "    X_end = x1.view(si,-1)\n",
        "    X_end = F.relu(self.fc_Xend(X_end))\n",
        "    X_end = self.dropout_Xend(X_end)\n",
        "    \n",
        "     \n",
        "    Y_end = x2.view(si,-1)\n",
        "    Y_end = F.relu(self.fc_Yend(Y_end))\n",
        "    Y_end = self.dropout_Yend(Y_end)\n",
        "     \n",
        "    Z_end = x3.view(si,-1)\n",
        "    Z_end = F.relu(self.fc_Zend(Z_end))\n",
        "    Z_end = self.dropout_Zend(Z_end)\n",
        "    \n",
        "    flatten=torch.cat((X_end,Y_end,Z_end,xinter,yinter,zinter),dim=1)\n",
        "#     flatten=torch.cat((flatten,zinter),dim=1)\n",
        "#     flatten = F.relu(self.fc1(flatten))\n",
        "#     flatten = self.dropout1(flatten)\n",
        "#     flatten  = F.relu(self.fc2(flatten))\n",
        "#     flatten = self.dropout2(flatten)\n",
        "    \n",
        "    return self.fc1(flatten)\n",
        "    \n",
        "    \n",
        "    \n",
        "\n",
        "model = VNetModified().to(device)\n",
        "# model    "
      ],
      "execution_count": 0,
      "outputs": []
    },
    {
      "cell_type": "code",
      "metadata": {
        "id": "-C7mEYNZisq0",
        "colab_type": "code",
        "outputId": "e8ab739e-7188-4263-e8f1-6f2c23707ffb",
        "colab": {
          "base_uri": "https://localhost:8080/",
          "height": 510
        }
      },
      "source": [
        "model"
      ],
      "execution_count": 0,
      "outputs": [
        {
          "output_type": "execute_result",
          "data": {
            "text/plain": [
              "VNetModified(\n",
              "  (conv_X1): Conv2d(3, 16, kernel_size=(3, 3), stride=(1, 1))\n",
              "  (conv_X2): Conv2d(16, 32, kernel_size=(3, 3), stride=(1, 1))\n",
              "  (conv_X3): Conv2d(32, 64, kernel_size=(3, 3), stride=(1, 1))\n",
              "  (conv_Y1): Conv2d(3, 16, kernel_size=(3, 3), stride=(1, 1))\n",
              "  (conv_Y2): Conv2d(16, 32, kernel_size=(3, 3), stride=(1, 1))\n",
              "  (conv_Y3): Conv2d(32, 64, kernel_size=(3, 3), stride=(1, 1))\n",
              "  (conv_Z1): Conv2d(3, 16, kernel_size=(3, 3), stride=(1, 1))\n",
              "  (conv_Z2): Conv2d(16, 32, kernel_size=(3, 3), stride=(1, 1))\n",
              "  (conv_Z3): Conv2d(32, 64, kernel_size=(3, 3), stride=(1, 1))\n",
              "  (conv_Xinter): Conv2d(16, 32, kernel_size=(3, 3), stride=(1, 1))\n",
              "  (conv_Yinter): Conv2d(32, 64, kernel_size=(3, 3), stride=(1, 1))\n",
              "  (conv_Zinter): Conv2d(64, 128, kernel_size=(2, 2), stride=(1, 1))\n",
              "  (fc_Xinter): Linear(in_features=1152, out_features=1500, bias=True)\n",
              "  (fc_Yinter): Linear(in_features=256, out_features=500, bias=True)\n",
              "  (fc_Zinter): Linear(in_features=128, out_features=500, bias=True)\n",
              "  (fc_Xend): Linear(in_features=256, out_features=500, bias=True)\n",
              "  (fc_Yend): Linear(in_features=256, out_features=500, bias=True)\n",
              "  (fc_Zend): Linear(in_features=256, out_features=500, bias=True)\n",
              "  (dropout_Xinter): Dropout(p=0.5)\n",
              "  (dropout_Yinter): Dropout(p=0.5)\n",
              "  (dropout_Zinter): Dropout(p=0.5)\n",
              "  (dropout_Xend): Dropout(p=0.5)\n",
              "  (dropout_Yend): Dropout(p=0.5)\n",
              "  (dropout_Zend): Dropout(p=0.5)\n",
              "  (dropout1): Dropout(p=0.5)\n",
              "  (dropout2): Dropout(p=0.5)\n",
              "  (fc1): Linear(in_features=4000, out_features=10, bias=True)\n",
              ")"
            ]
          },
          "metadata": {
            "tags": []
          },
          "execution_count": 149
        }
      ]
    },
    {
      "cell_type": "code",
      "metadata": {
        "id": "Rmnht5lKZLCm",
        "colab_type": "code",
        "outputId": "9e20ea52-ca68-435c-c339-3e48f2b87bbc",
        "colab": {
          "base_uri": "https://localhost:8080/",
          "height": 1000
        }
      },
      "source": [
        "fit(model)"
      ],
      "execution_count": 0,
      "outputs": [
        {
          "output_type": "stream",
          "text": [
            "0\n",
            "epoch : 1\n",
            "training loss: 1.8458, acc 33.7260 \n",
            "validation loss: 1.5861, validation acc 43.2300 \n",
            "1\n",
            "epoch : 2\n",
            "training loss: 1.5583, acc 43.9340 \n",
            "validation loss: 1.4287, validation acc 49.7800 \n",
            "2\n",
            "epoch : 3\n",
            "training loss: 1.4557, acc 47.8880 \n",
            "validation loss: 1.3572, validation acc 52.0000 \n",
            "3\n",
            "epoch : 4\n",
            "training loss: 1.3882, acc 50.5340 \n",
            "validation loss: 1.2904, validation acc 54.3600 \n",
            "4\n",
            "epoch : 5\n",
            "training loss: 1.3359, acc 52.7740 \n",
            "validation loss: 1.2435, validation acc 56.2000 \n",
            "5\n",
            "epoch : 6\n",
            "training loss: 1.2937, acc 54.4020 \n",
            "validation loss: 1.2113, validation acc 56.6500 \n",
            "6\n",
            "epoch : 7\n",
            "training loss: 1.2609, acc 55.4300 \n",
            "validation loss: 1.1808, validation acc 58.3900 \n",
            "7\n",
            "epoch : 8\n",
            "training loss: 1.2220, acc 57.1620 \n",
            "validation loss: 1.1436, validation acc 59.3900 \n",
            "8\n",
            "epoch : 9\n",
            "training loss: 1.1969, acc 57.7920 \n",
            "validation loss: 1.1190, validation acc 60.7900 \n",
            "9\n",
            "epoch : 10\n",
            "training loss: 1.1745, acc 58.7400 \n",
            "validation loss: 1.0792, validation acc 62.2700 \n",
            "10\n",
            "epoch : 11\n",
            "training loss: 1.1430, acc 60.0960 \n",
            "validation loss: 1.0649, validation acc 62.3300 \n",
            "11\n",
            "epoch : 12\n",
            "training loss: 1.1221, acc 60.5960 \n",
            "validation loss: 1.0546, validation acc 62.8900 \n",
            "12\n",
            "epoch : 13\n",
            "training loss: 1.1047, acc 61.3360 \n",
            "validation loss: 1.0343, validation acc 63.6100 \n",
            "13\n",
            "epoch : 14\n",
            "training loss: 1.0838, acc 62.1340 \n",
            "validation loss: 1.0229, validation acc 64.3200 \n",
            "14\n",
            "epoch : 15\n",
            "training loss: 1.0710, acc 62.5780 \n",
            "validation loss: 0.9903, validation acc 65.2600 \n"
          ],
          "name": "stdout"
        }
      ]
    },
    {
      "cell_type": "code",
      "metadata": {
        "id": "zwqzhPNeTOHA",
        "colab_type": "code",
        "colab": {}
      },
      "source": [
        ""
      ],
      "execution_count": 0,
      "outputs": []
    },
    {
      "cell_type": "markdown",
      "metadata": {
        "id": "hJlrOXSaTPUg",
        "colab_type": "text"
      },
      "source": [
        "## 50 epochs\n"
      ]
    },
    {
      "cell_type": "code",
      "metadata": {
        "id": "pIL8_emcTa_Q",
        "colab_type": "code",
        "outputId": "11dd32cc-e2e4-40ad-d0d1-3c53a8ea5e5f",
        "colab": {
          "base_uri": "https://localhost:8080/",
          "height": 1000
        }
      },
      "source": [
        "fit(model)"
      ],
      "execution_count": 0,
      "outputs": [
        {
          "output_type": "stream",
          "text": [
            "0\n",
            "epoch : 1\n",
            "training loss: 1.8703, acc 32.5460 \n",
            "validation loss: 1.5818, validation acc 43.3900 \n",
            "1\n",
            "epoch : 2\n",
            "training loss: 1.5733, acc 43.4600 \n",
            "validation loss: 1.4479, validation acc 48.2300 \n",
            "2\n",
            "epoch : 3\n",
            "training loss: 1.4735, acc 47.3100 \n",
            "validation loss: 1.3631, validation acc 51.3700 \n",
            "3\n",
            "epoch : 4\n",
            "training loss: 1.4036, acc 49.8400 \n",
            "validation loss: 1.2990, validation acc 54.0500 \n",
            "4\n",
            "epoch : 5\n",
            "training loss: 1.3497, acc 51.9960 \n",
            "validation loss: 1.2453, validation acc 56.1500 \n",
            "5\n",
            "epoch : 6\n",
            "training loss: 1.3075, acc 53.7560 \n",
            "validation loss: 1.2184, validation acc 56.6000 \n",
            "6\n",
            "epoch : 7\n",
            "training loss: 1.2726, acc 54.9880 \n",
            "validation loss: 1.1834, validation acc 58.3500 \n",
            "7\n",
            "epoch : 8\n",
            "training loss: 1.2352, acc 56.5680 \n",
            "validation loss: 1.1551, validation acc 59.2500 \n",
            "8\n",
            "epoch : 9\n",
            "training loss: 1.2058, acc 57.3940 \n",
            "validation loss: 1.1067, validation acc 61.0100 \n",
            "9\n",
            "epoch : 10\n",
            "training loss: 1.1818, acc 58.5400 \n",
            "validation loss: 1.0985, validation acc 61.2100 \n",
            "10\n",
            "epoch : 11\n",
            "training loss: 1.1532, acc 59.5800 \n",
            "validation loss: 1.0695, validation acc 62.3500 \n",
            "11\n",
            "epoch : 12\n",
            "training loss: 1.1331, acc 60.3880 \n",
            "validation loss: 1.0770, validation acc 61.8400 \n",
            "12\n",
            "epoch : 13\n",
            "training loss: 1.1114, acc 61.0740 \n",
            "validation loss: 1.0397, validation acc 63.5800 \n",
            "13\n",
            "epoch : 14\n",
            "training loss: 1.0956, acc 61.9300 \n",
            "validation loss: 1.0130, validation acc 64.7900 \n",
            "14\n",
            "epoch : 15\n",
            "training loss: 1.0730, acc 62.6360 \n",
            "validation loss: 1.0002, validation acc 65.1600 \n",
            "15\n",
            "epoch : 16\n",
            "training loss: 1.0562, acc 63.2940 \n",
            "validation loss: 0.9985, validation acc 65.2400 \n",
            "16\n",
            "epoch : 17\n",
            "training loss: 1.0416, acc 63.6900 \n",
            "validation loss: 0.9759, validation acc 66.1600 \n",
            "17\n",
            "epoch : 18\n",
            "training loss: 1.0257, acc 64.2420 \n",
            "validation loss: 0.9591, validation acc 66.4300 \n",
            "18\n",
            "epoch : 19\n",
            "training loss: 1.0102, acc 64.6340 \n",
            "validation loss: 0.9567, validation acc 66.7700 \n",
            "19\n",
            "epoch : 20\n",
            "training loss: 0.9963, acc 65.3240 \n",
            "validation loss: 0.9575, validation acc 66.6900 \n",
            "20\n",
            "epoch : 21\n",
            "training loss: 0.9827, acc 65.6540 \n",
            "validation loss: 0.9179, validation acc 67.7400 \n",
            "21\n",
            "epoch : 22\n",
            "training loss: 0.9716, acc 66.2240 \n",
            "validation loss: 0.9279, validation acc 67.8300 \n",
            "22\n",
            "epoch : 23\n",
            "training loss: 0.9599, acc 66.7340 \n",
            "validation loss: 0.9096, validation acc 68.2600 \n",
            "23\n",
            "epoch : 24\n",
            "training loss: 0.9483, acc 67.1480 \n",
            "validation loss: 0.9199, validation acc 68.2000 \n",
            "24\n",
            "epoch : 25\n",
            "training loss: 0.9386, acc 67.5220 \n",
            "validation loss: 0.8977, validation acc 68.6700 \n",
            "25\n",
            "epoch : 26\n",
            "training loss: 0.9288, acc 68.0400 \n",
            "validation loss: 0.8709, validation acc 69.7000 \n",
            "26\n",
            "epoch : 27\n",
            "training loss: 0.9139, acc 68.2560 \n",
            "validation loss: 0.8806, validation acc 69.6000 \n",
            "27\n",
            "epoch : 28\n",
            "training loss: 0.9093, acc 68.4060 \n",
            "validation loss: 0.8586, validation acc 69.9000 \n",
            "28\n",
            "epoch : 29\n",
            "training loss: 0.8969, acc 68.8300 \n",
            "validation loss: 0.8593, validation acc 70.2800 \n",
            "29\n",
            "epoch : 30\n",
            "training loss: 0.8899, acc 69.0840 \n",
            "validation loss: 0.8639, validation acc 70.0600 \n",
            "30\n",
            "epoch : 31\n",
            "training loss: 0.8769, acc 69.6320 \n",
            "validation loss: 0.8348, validation acc 71.0900 \n",
            "31\n",
            "epoch : 32\n",
            "training loss: 0.8664, acc 69.9160 \n",
            "validation loss: 0.8444, validation acc 70.4900 \n",
            "32\n",
            "epoch : 33\n",
            "training loss: 0.8587, acc 70.2780 \n",
            "validation loss: 0.8320, validation acc 71.3800 \n",
            "33\n",
            "epoch : 34\n",
            "training loss: 0.8518, acc 70.5140 \n",
            "validation loss: 0.8263, validation acc 71.2500 \n",
            "34\n",
            "epoch : 35\n",
            "training loss: 0.8494, acc 70.5160 \n",
            "validation loss: 0.8103, validation acc 72.0300 \n",
            "35\n",
            "epoch : 36\n",
            "training loss: 0.8392, acc 71.0480 \n",
            "validation loss: 0.8123, validation acc 72.1600 \n",
            "36\n",
            "epoch : 37\n",
            "training loss: 0.8242, acc 71.5160 \n",
            "validation loss: 0.8041, validation acc 72.0100 \n",
            "37\n",
            "epoch : 38\n",
            "training loss: 0.8218, acc 71.5680 \n",
            "validation loss: 0.7982, validation acc 72.7100 \n",
            "38\n",
            "epoch : 39\n",
            "training loss: 0.8115, acc 71.9540 \n",
            "validation loss: 0.8043, validation acc 72.1000 \n",
            "39\n",
            "epoch : 40\n",
            "training loss: 0.8045, acc 72.2740 \n",
            "validation loss: 0.7887, validation acc 72.6900 \n",
            "40\n",
            "epoch : 41\n",
            "training loss: 0.7965, acc 72.3540 \n",
            "validation loss: 0.7823, validation acc 72.9900 \n",
            "41\n",
            "epoch : 42\n",
            "training loss: 0.7957, acc 72.6400 \n",
            "validation loss: 0.7741, validation acc 73.3800 \n",
            "42\n",
            "epoch : 43\n",
            "training loss: 0.7847, acc 72.9060 \n",
            "validation loss: 0.7794, validation acc 73.2800 \n",
            "43\n",
            "epoch : 44\n",
            "training loss: 0.7753, acc 73.1240 \n",
            "validation loss: 0.7750, validation acc 73.2700 \n",
            "44\n",
            "epoch : 45\n",
            "training loss: 0.7654, acc 73.3620 \n",
            "validation loss: 0.7786, validation acc 73.3400 \n",
            "45\n",
            "epoch : 46\n",
            "training loss: 0.7628, acc 73.4280 \n",
            "validation loss: 0.7781, validation acc 73.1900 \n",
            "46\n",
            "epoch : 47\n",
            "training loss: 0.7531, acc 73.8120 \n",
            "validation loss: 0.7646, validation acc 73.6400 \n",
            "47\n",
            "epoch : 48\n",
            "training loss: 0.7512, acc 74.1760 \n",
            "validation loss: 0.7807, validation acc 72.9500 \n",
            "48\n",
            "epoch : 49\n",
            "training loss: 0.7475, acc 74.0340 \n",
            "validation loss: 0.7523, validation acc 74.4100 \n",
            "49\n",
            "epoch : 50\n",
            "training loss: 0.7411, acc 74.2440 \n",
            "validation loss: 0.7609, validation acc 73.7600 \n"
          ],
          "name": "stdout"
        }
      ]
    }
  ]
}